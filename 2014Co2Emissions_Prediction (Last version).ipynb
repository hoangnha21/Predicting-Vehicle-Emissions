{
 "cells": [
  {
   "cell_type": "code",
   "execution_count": null,
   "id": "20afc900",
   "metadata": {},
   "outputs": [],
   "source": [
    "import numpy as np\n",
    "import pandas as pd\n",
    "import matplotlib.pyplot as plt\n",
    "import seaborn as sns\n",
    "\n",
    "#Assigning attributes to a dataframe (df)\n",
    "df=pd.read_csv(\"FuelConsumptionCO2.csv\")\n",
    "df.head(10)\n"
   ]
  },
  {
   "cell_type": "code",
   "execution_count": null,
   "id": "1904d92a",
   "metadata": {},
   "outputs": [],
   "source": [
    "df[\"FUELTYPE\"].unique()"
   ]
  },
  {
   "cell_type": "code",
   "execution_count": null,
   "id": "8037db5e",
   "metadata": {},
   "outputs": [],
   "source": [
    "df[\"VEHICLECLASS\"].unique()"
   ]
  },
  {
   "cell_type": "code",
   "execution_count": null,
   "id": "13e5bc4b",
   "metadata": {},
   "outputs": [],
   "source": [
    "df[\"TRANSMISSION\"].unique()"
   ]
  },
  {
   "cell_type": "code",
   "execution_count": null,
   "id": "9b200f85",
   "metadata": {},
   "outputs": [],
   "source": [
    "df.drop(columns = ['MODELYEAR'],inplace = True)\n",
    "df"
   ]
  },
  {
   "cell_type": "code",
   "execution_count": null,
   "id": "46c1c69a",
   "metadata": {},
   "outputs": [],
   "source": [
    "#Encoding Categorical Variable\n",
    "df2 = pd.get_dummies(df,columns = ['FUELTYPE', 'VEHICLECLASS','TRANSMISSION','MAKE','MODEL'])"
   ]
  },
  {
   "cell_type": "code",
   "execution_count": null,
   "id": "4c99cc79",
   "metadata": {},
   "outputs": [],
   "source": [
    "df2"
   ]
  },
  {
   "cell_type": "code",
   "execution_count": null,
   "id": "dde07c38",
   "metadata": {},
   "outputs": [],
   "source": [
    "# calculate the Pearson's correlation between two variables\n",
    "from numpy.random import randn\n",
    "from numpy.random import seed\n",
    "from scipy.stats import pearsonr\n",
    "df2['ENGINESIZE']\n",
    "df2['CO2EMISSIONS']\n",
    "\n",
    "pearsonr(df2['ENGINESIZE'],df2['CO2EMISSIONS'])[0]"
   ]
  },
  {
   "cell_type": "code",
   "execution_count": null,
   "id": "05d55045",
   "metadata": {},
   "outputs": [],
   "source": [
    "drop_ft = []\n",
    "\n",
    "\n",
    "for col in df2:\n",
    "    if(pearsonr(df2[col],df2['CO2EMISSIONS'])[0] > -0.5 and pearsonr(df2[col],df2['CO2EMISSIONS'])[0] < 0.5):\n",
    "        drop_ft.append(col)\n",
    "    \n",
    "len(drop_ft)"
   ]
  },
  {
   "cell_type": "code",
   "execution_count": null,
   "id": "3238e27d",
   "metadata": {},
   "outputs": [],
   "source": [
    "df3 = df2.drop(drop_ft, axis = 1)"
   ]
  },
  {
   "cell_type": "code",
   "execution_count": null,
   "id": "abfce835",
   "metadata": {},
   "outputs": [],
   "source": [
    "df3"
   ]
  },
  {
   "cell_type": "code",
   "execution_count": null,
   "id": "e865c874",
   "metadata": {},
   "outputs": [],
   "source": [
    "# describing statiscal measures\n",
    "df3.describe()\n",
    "\n"
   ]
  },
  {
   "cell_type": "code",
   "execution_count": null,
   "id": "40b4373e",
   "metadata": {},
   "outputs": [],
   "source": [
    "#find if there is any missing values of CO2 emission \n",
    "df3.isnull().sum()"
   ]
  },
  {
   "cell_type": "code",
   "execution_count": null,
   "id": "185d28da",
   "metadata": {},
   "outputs": [],
   "source": [
    "#data types of all variables (columns/attribures)\n",
    "df3.dtypes"
   ]
  },
  {
   "cell_type": "code",
   "execution_count": null,
   "id": "01401ec9",
   "metadata": {},
   "outputs": [],
   "source": [
    "#splitting data to train the model \n",
    "\n",
    "#importing necessary libraries \n",
    "from sklearn import linear_model\n",
    "from sklearn.metrics import r2_score, mean_squared_error,mean_absolute_error\n",
    "from sklearn.model_selection import train_test_split\n"
   ]
  },
  {
   "cell_type": "code",
   "execution_count": null,
   "id": "7ae1c30e",
   "metadata": {},
   "outputs": [],
   "source": [
    "op_ = df3.iloc[:,6]\n",
    "ip_ = df3.iloc[:,0:6]"
   ]
  },
  {
   "cell_type": "code",
   "execution_count": null,
   "id": "3024cc00",
   "metadata": {},
   "outputs": [],
   "source": [
    "# spliting into train and test dataset with train_test_split \n",
    "x_train, x_test, y_train, y_test = train_test_split(ip_, op_ , test_size=0.2, random_state=42)"
   ]
  },
  {
   "cell_type": "markdown",
   "id": "d7788461",
   "metadata": {},
   "source": [
    "# LINEAR REGRESSION"
   ]
  },
  {
   "cell_type": "code",
   "execution_count": null,
   "id": "4a704c8d",
   "metadata": {},
   "outputs": [],
   "source": [
    "# Creating the model with the train dataset \n",
    "model = linear_model.LinearRegression()\n"
   ]
  },
  {
   "cell_type": "code",
   "execution_count": null,
   "id": "0f848d41",
   "metadata": {},
   "outputs": [],
   "source": [
    "# # I use training dateset to train the model y=ax+b\n",
    "model.fit(x_train,y_train)"
   ]
  },
  {
   "cell_type": "code",
   "execution_count": null,
   "id": "f0d411ed",
   "metadata": {},
   "outputs": [],
   "source": [
    "# # Finding coeficients A and B of the model\n",
    "print(f'intercept: {model.intercept_} | slope: {model.coef_}')"
   ]
  },
  {
   "cell_type": "code",
   "execution_count": null,
   "id": "f640f617",
   "metadata": {},
   "outputs": [],
   "source": [
    "predict = model.predict(x_test)"
   ]
  },
  {
   "cell_type": "code",
   "execution_count": null,
   "id": "d4a664e8",
   "metadata": {},
   "outputs": [],
   "source": [
    "len(predict)"
   ]
  },
  {
   "cell_type": "code",
   "execution_count": null,
   "id": "31b87c5f",
   "metadata": {},
   "outputs": [],
   "source": [
    "from math import sqrt\n",
    "# # Showing metrics to check the acuracy of our model\n",
    "print(f'Sum of squared error (SSE): {np.sum((predict - y_test)**2)}') \n",
    "print(f'Mean squared error (MSE): {mean_squared_error(y_test, predict)}') \n",
    "print (f'Sqrt of mean squared error (RMSE):  {sqrt(mean_squared_error(y_test, predict))}') \n",
    "print(f'R2-score: {r2_score(predict, y_test)}') \n"
   ]
  },
  {
   "cell_type": "code",
   "execution_count": null,
   "id": "cd6a11e2",
   "metadata": {},
   "outputs": [],
   "source": [
    "#LOGISTICS REGRESSION\n",
    "#RANDOMFOREST\n",
    "#DECISIONTREEREGRESSOR"
   ]
  },
  {
   "cell_type": "markdown",
   "id": "835f43e4",
   "metadata": {},
   "source": [
    "# DECISION TREE"
   ]
  },
  {
   "cell_type": "code",
   "execution_count": null,
   "id": "9669ba09",
   "metadata": {},
   "outputs": [],
   "source": [
    "import sklearn.tree as st\n",
    "tree = st.DecisionTreeRegressor (random_state=42)\n",
    "tree. fit(x_train, y_train)"
   ]
  },
  {
   "cell_type": "code",
   "execution_count": null,
   "id": "f42f67a0",
   "metadata": {},
   "outputs": [],
   "source": [
    "print( 'R squared of the Decision Tree Regressor on training set: {:.2%}'.format(tree.score(x_train, y_train)))\n",
    "print('R squared of the Decision Tree Regressor on test set: {:.2%}'. format (tree.score(x_test, y_test)))"
   ]
  },
  {
   "cell_type": "code",
   "execution_count": null,
   "id": "60bde4be",
   "metadata": {},
   "outputs": [],
   "source": [
    "y_pred = tree.predict (x_test)\n",
    "dataDT = {'true': np. exp(y_test),'predicted': np. exp(y_pred)}\n",
    "final_dt= pd.DataFrame(data=dataDT)\n",
    "final_dt['diff'] = final_dt['predicted']-final_dt['true']\n",
    "final_dt"
   ]
  },
  {
   "cell_type": "code",
   "execution_count": null,
   "id": "b3ac3926",
   "metadata": {},
   "outputs": [],
   "source": [
    "print(\"Mean Absolute Error of the Decision Tree on test set is\", mean_absolute_error(y_test, y_pred))"
   ]
  },
  {
   "cell_type": "code",
   "execution_count": null,
   "id": "f7875412",
   "metadata": {},
   "outputs": [],
   "source": [
    "def MAPE(Y_Actual,Y_Predicted) :\n",
    "    mape = np.mean(np.abs((Y_Actual - Y_Predicted) /Y_Actual))*100\n",
    "    return mape\n",
    "MAPE (np.exp(y_test) ,np.exp(y_pred))"
   ]
  },
  {
   "cell_type": "markdown",
   "id": "abf5b972",
   "metadata": {},
   "source": [
    "# RANDOM FOREST"
   ]
  },
  {
   "cell_type": "code",
   "execution_count": null,
   "id": "b282ee57",
   "metadata": {},
   "outputs": [],
   "source": [
    "import sklearn.ensemble as se\n",
    "rf = se. RandomForestRegressor (n_estimators=100, random_state=42)\n",
    "rf. fit(x_train, y_train)"
   ]
  },
  {
   "cell_type": "code",
   "execution_count": null,
   "id": "1dd12eae",
   "metadata": {},
   "outputs": [],
   "source": [
    "print('R squared of the Random Forest Regressor on training set: {:.2%}'. format (rf.score(x_train, y_train)))\n",
    "print( 'R squared of the Random Forest Regressor on test set: {:.2%}'. format (rf. score (x_test, y_test)))"
   ]
  },
  {
   "cell_type": "code",
   "execution_count": null,
   "id": "a0a97fbc",
   "metadata": {},
   "outputs": [],
   "source": [
    "y_pred = rf.predict (x_test)\n",
    "dataRF = {'true': np.exp(y_test), 'predicted': np.exp(y_pred) }\n",
    "final_rf= pd.DataFrame(data=dataRF)\n",
    "final_rf ['diff'] = final_rf['predicted']-final_rf['true']\n",
    "final_rf"
   ]
  },
  {
   "cell_type": "code",
   "execution_count": null,
   "id": "f50b4fad",
   "metadata": {},
   "outputs": [],
   "source": [
    "print(\"Mean Absolute Error of the Random Forest on test set is\", mean_absolute_error(y_test, y_pred))"
   ]
  },
  {
   "cell_type": "code",
   "execution_count": null,
   "id": "f7e5b762",
   "metadata": {},
   "outputs": [],
   "source": []
  }
 ],
 "metadata": {
  "kernelspec": {
   "display_name": "Python 3 (ipykernel)",
   "language": "python",
   "name": "python3"
  },
  "language_info": {
   "codemirror_mode": {
    "name": "ipython",
    "version": 3
   },
   "file_extension": ".py",
   "mimetype": "text/x-python",
   "name": "python",
   "nbconvert_exporter": "python",
   "pygments_lexer": "ipython3",
   "version": "3.9.7"
  }
 },
 "nbformat": 4,
 "nbformat_minor": 5
}
